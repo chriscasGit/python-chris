{
 "cells": [
  {
   "cell_type": "code",
   "execution_count": null,
   "metadata": {},
   "outputs": [],
   "source": [
    "# Import Matplotlib, Pandas, and Seaborn\n",
    "import seaborn as sns\n",
    "import matplotlib.pyplot as plt\n",
    "import pandas as pd\n",
    "\n",
    "filepath = \"C:\\\\Users\\\\CAS233\\\\Desktop\\\\OC\\\\oc_prep.xlsx\"\n",
    "sheet = \"1c_ss22\"\n",
    "\n",
    "# Create a DataFrame from csv file\n",
    "df = pd.read_excel(filepath, sheet, header=3)\n",
    "\n",
    "df1 = df[['mfp','sov_k','department','gender','cat','PC9']]"
   ]
  },
  {
   "cell_type": "markdown",
   "metadata": {},
   "source": [
    "# First analysis: Revenue density by mfp"
   ]
  },
  {
   "cell_type": "code",
   "execution_count": null,
   "metadata": {},
   "outputs": [],
   "source": [
    "mask1 = (df1['department']=='MB')\n",
    "mask2 = (df1['mfp']!= 'MB-FASHION PIECES') & (df1['mfp'] !='MB-SHORTS-SHORTS NON DENIM')\n",
    "dfmb = df1[mask1 & mask2]"
   ]
  },
  {
   "cell_type": "code",
   "execution_count": null,
   "metadata": {},
   "outputs": [],
   "source": [
    "mask3 = (df1['department']=='MT')\n",
    "mask4 = (df1['mfp']!= 'MB-FASHION PIECES') & (df1['mfp'] !='MB-SHORTS-SHORTS NON DENIM')\n",
    "dfmt = df1[mask3 & mask4]"
   ]
  },
  {
   "cell_type": "code",
   "execution_count": null,
   "metadata": {},
   "outputs": [],
   "source": [
    "mask5 = (df1['department']=='WB')\n",
    "mask6 = (df1['mfp']!= 'WB-SHORTS & SKIRTS-SHORTS') & (df1['mfp'] !='WB-SHORTS & SKIRTS-SKIRTS')&(df1['mfp'] !='WB-SWEATPANTS')\n",
    "dfwb = df1[mask5 & mask6]"
   ]
  },
  {
   "cell_type": "code",
   "execution_count": null,
   "metadata": {},
   "outputs": [],
   "source": [
    "mask7 = (df1['department']=='WT')\n",
    "mask8 = (df1['mfp']!= 'MB-FASHION PIECES') & (df1['mfp'] !='MB-SHORTS-SHORTS NON DENIM')\n",
    "dfwt = df1[mask7 & mask8]"
   ]
  },
  {
   "cell_type": "code",
   "execution_count": null,
   "metadata": {},
   "outputs": [],
   "source": [
    "\n",
    "dfall = df1[mask2 & mask4 & mask6 & mask8]"
   ]
  },
  {
   "cell_type": "code",
   "execution_count": null,
   "metadata": {},
   "outputs": [],
   "source": [
    "def mygraph(df):\n",
    "    sns.set_theme(style=\"darkgrid\")\n",
    "    sns.displot(\n",
    "    df, x=\"sov_k\", hue=\"mfp\", kind='kde', facet_kws=dict(margin_titles=True), aspect=3    )\n",
    "    "
   ]
  },
  {
   "cell_type": "code",
   "execution_count": null,
   "metadata": {},
   "outputs": [],
   "source": [
    "dfs = [dfmb,dfmt,dfwb,dfmt]\n",
    "[mygraph(i) for i in dfs]"
   ]
  },
  {
   "cell_type": "code",
   "execution_count": null,
   "metadata": {},
   "outputs": [],
   "source": [
    "sns.displot(\n",
    "    dfall, x=\"sov_k\", hue=\"mfp\", kind='kde', row='cat', col='gender', facet_kws=dict(margin_titles=True), aspect=3    )\n",
    "    "
   ]
  },
  {
   "cell_type": "markdown",
   "metadata": {},
   "source": [
    "# Second Analysis: Pareto by MFP"
   ]
  },
  {
   "cell_type": "code",
   "execution_count": null,
   "metadata": {},
   "outputs": [],
   "source": [
    "import pandas as pd\n",
    "import seaborn as sns\n",
    "\n",
    "import matplotlib.pyplot as plt\n",
    "%matplotlib inline"
   ]
  },
  {
   "cell_type": "code",
   "execution_count": null,
   "metadata": {},
   "outputs": [],
   "source": [
    "def pareto_plot(df, x=None, y=None, title=None, show_pct_y=False, pct_format='{0:.0%}'):\n",
    "    xlabel = x\n",
    "    ylabel = y\n",
    "    tmp = df.sort_values(y, ascending=False)\n",
    "    x = tmp[x].values\n",
    "    y = tmp[y].values\n",
    "    weights = y / y.sum()\n",
    "    cumsum = weights.cumsum()\n",
    "    \n",
    "    fig, ax1 = plt.subplots()\n",
    "    ax1.bar(x, y)\n",
    "    ax1.set_xlabel(xlabel)\n",
    "    ax1.set_ylabel(ylabel)\n",
    "    plt.xticks(rotation=90)\n",
    "\n",
    "    ax2 = ax1.twinx()\n",
    "    ax2.plot(x, cumsum, '-ro', alpha=0.5)\n",
    "    ax2.set_ylabel('', color='r')\n",
    "    ax2.tick_params('y', colors='r')\n",
    "    \n",
    "    vals = ax2.get_yticks()\n",
    "    ax2.set_yticklabels(['{:,.2%}'.format(x) for x in vals])\n",
    "\n",
    "    # hide y-labels on right side\n",
    "    if not show_pct_y:\n",
    "        ax2.set_yticks([])\n",
    "    \n",
    "    formatted_weights = [pct_format.format(x) for x in cumsum]\n",
    "    for i, txt in enumerate(formatted_weights):\n",
    "        ax2.annotate(txt, (x[i], cumsum[i]), fontweight='heavy')    \n",
    "    \n",
    "    if title:\n",
    "        plt.title(title)\n",
    "    \n",
    "    plt.tight_layout()\n",
    "    plt.show()"
   ]
  },
  {
   "cell_type": "code",
   "execution_count": null,
   "metadata": {},
   "outputs": [],
   "source": [
    "#dfs = [dfmb,dfmt,dfwb,dfmt]\n",
    "#[pareto_plot(i, x='mfp', y='sov_k', title='mfp') for i in dfs]\n"
   ]
  },
  {
   "cell_type": "code",
   "execution_count": null,
   "metadata": {},
   "outputs": [],
   "source": [
    "mfpmb = dfmb['mfp'].unique()\n",
    "mfpmt = dfmt['mfp'].unique()\n",
    "mfpwb = dfwb['mfp'].unique()\n",
    "mfpwt = dfwt['mfp'].unique()\n",
    "mfps = df1['mfp'].unique()\n",
    "print(mfps)\n"
   ]
  },
  {
   "cell_type": "code",
   "execution_count": null,
   "metadata": {},
   "outputs": [],
   "source": [
    "#pareto_plot(df1, x='PC9', y='sov_k', title='mfp')"
   ]
  },
  {
   "cell_type": "code",
   "execution_count": null,
   "metadata": {},
   "outputs": [],
   "source": [
    "for i in mfps:\n",
    "    tempdf = df1[(df1['mfp'] == i)]\n",
    "    #print(tempdf)\n",
    "    pareto_plot(tempdf, x='PC9',y='sov_k',title=i)\n",
    "    #print(\"\\n\\n\")"
   ]
  }
 ],
 "metadata": {
  "kernelspec": {
   "display_name": "Python 3",
   "language": "python",
   "name": "python3"
  },
  "language_info": {
   "codemirror_mode": {
    "name": "ipython",
    "version": 3
   },
   "file_extension": ".py",
   "mimetype": "text/x-python",
   "name": "python",
   "nbconvert_exporter": "python",
   "pygments_lexer": "ipython3",
   "version": "3.7.3"
  }
 },
 "nbformat": 4,
 "nbformat_minor": 2
}
