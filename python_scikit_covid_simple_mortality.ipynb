{
 "cells": [
  {
   "cell_type": "code",
   "execution_count": 160,
   "metadata": {},
   "outputs": [],
   "source": [
    "import pandas as pd\n",
    "from sklearn.metrics import accuracy_score\n",
    "from sklearn.model_selection import train_test_split\n",
    "from sklearn.tree import DecisionTreeClassifier\n",
    "import numpy as np\n",
    "import matplotlib\n",
    "import matplotlib.pyplot as plt"
   ]
  },
  {
   "cell_type": "code",
   "execution_count": 161,
   "metadata": {},
   "outputs": [
    {
     "data": {
      "text/plain": [
       "Index(['id', 'case_in_country', 'reporting date', 'Unnamed: 3', 'summary',\n",
       "       'location', 'country', 'gender', 'age', 'symptom_onset',\n",
       "       'If_onset_approximated', 'hosp_visit_date', 'exposure_start',\n",
       "       'exposure_end', 'visiting Wuhan', 'from Wuhan', 'death', 'recovered',\n",
       "       'symptom', 'source', 'link', 'Unnamed: 21', 'Unnamed: 22',\n",
       "       'Unnamed: 23', 'Unnamed: 24', 'Unnamed: 25', 'Unnamed: 26'],\n",
       "      dtype='object')"
      ]
     },
     "execution_count": 161,
     "metadata": {},
     "output_type": "execute_result"
    }
   ],
   "source": [
    "df_raw_data = pd.read_csv('COVID19_line_list_data.csv')\n",
    "df_raw_data.columns"
   ]
  },
  {
   "cell_type": "code",
   "execution_count": 162,
   "metadata": {},
   "outputs": [],
   "source": [
    "#selecting only columns of interest\n",
    "df = df_raw_data[['id','country','gender','age','death']]\n",
    "df = df[df['age'].notna()]\n",
    "df = df[df['gender'].notna()]"
   ]
  },
  {
   "cell_type": "code",
   "execution_count": 163,
   "metadata": {},
   "outputs": [
    {
     "data": {
      "text/plain": [
       "array(['0', '1', '2/14/2020', '2/26/2020', '2/13/2020', '2/28/2020',\n",
       "       '2/27/2020', '2/23/2020', '2/24/2020', '2/22/2020', '2/25/2020',\n",
       "       '02/01/20'], dtype=object)"
      ]
     },
     "execution_count": 163,
     "metadata": {},
     "output_type": "execute_result"
    }
   ],
   "source": [
    "#data is not curated. field must be converted to binary\n",
    "df.death.unique()"
   ]
  },
  {
   "cell_type": "code",
   "execution_count": 164,
   "metadata": {},
   "outputs": [],
   "source": [
    "#apply mask and convert to 1 if death value is any other than 0.\n",
    "mask = df['death'] != '0'\n",
    "df['death'][mask] = '1'\n"
   ]
  },
  {
   "cell_type": "code",
   "execution_count": 165,
   "metadata": {},
   "outputs": [
    {
     "data": {
      "text/plain": [
       "array(['male', 'female'], dtype=object)"
      ]
     },
     "execution_count": 165,
     "metadata": {},
     "output_type": "execute_result"
    }
   ],
   "source": [
    "#data is not curated. field must be converted to binary\n",
    "df.gender.unique()\n",
    "#df['gender'].fillna('0', inplace=True)\n"
   ]
  },
  {
   "cell_type": "code",
   "execution_count": null,
   "metadata": {},
   "outputs": [],
   "source": []
  },
  {
   "cell_type": "code",
   "execution_count": 166,
   "metadata": {},
   "outputs": [
    {
     "name": "stderr",
     "output_type": "stream",
     "text": [
      "C:\\Users\\CAS233\\AppData\\Local\\Continuum\\anaconda3\\lib\\site-packages\\ipykernel_launcher.py:5: SettingWithCopyWarning: \n",
      "A value is trying to be set on a copy of a slice from a DataFrame\n",
      "\n",
      "See the caveats in the documentation: http://pandas.pydata.org/pandas-docs/stable/indexing.html#indexing-view-versus-copy\n",
      "  \"\"\"\n"
     ]
    }
   ],
   "source": [
    "mask = df['gender'] == 'male'\n",
    "df['gender'][mask] = '1'\n",
    "\n",
    "mask = df['gender'] == 'female'\n",
    "df['gender'][mask] = '2'\n",
    "\n"
   ]
  },
  {
   "cell_type": "code",
   "execution_count": 167,
   "metadata": {},
   "outputs": [
    {
     "data": {
      "text/plain": [
       "array(['1', '2'], dtype=object)"
      ]
     },
     "execution_count": 167,
     "metadata": {},
     "output_type": "execute_result"
    }
   ],
   "source": [
    "#sanity check summary of records\n",
    "#df.groupby('death').nunique()\n",
    "df.gender.unique()\n"
   ]
  },
  {
   "cell_type": "code",
   "execution_count": 168,
   "metadata": {},
   "outputs": [
    {
     "data": {
      "image/png": "[encoded data removed]",
      "text/plain": [
       "<Figure size 432x288 with 1 Axes>"
      ]
     },
     "metadata": {
      "needs_background": "light"
     },
     "output_type": "display_data"
    }
   ],
   "source": [
    "#pivot dataframe\n",
    "pivoted = pd.pivot_table(df, values='id', index=['age'], columns=['death'], aggfunc='count')\n",
    "#pivoted = pivoted.dropna()\n",
    "pivoted = pivoted.reset_index()\n",
    "\n",
    "###Next blocks prepare the plot based on pivoted dataframe.\n",
    "#prepare variables for graph.\n",
    "t = pivoted['age'].values\n",
    "a = pivoted['0'].values\n",
    "b = pivoted['1'].values\n",
    "#c = pivoted['articles'].values\n",
    "\n",
    "fig, ax1 = plt.subplots()\n",
    "#fig, ax1 = plt.bar('age','0')\n",
    "\n",
    "#Two data sets that share a primary axis (in units)\n",
    "color = 'black'\n",
    "w = 1\n",
    "ax1.set_xlabel('Age')\n",
    "ax1.set_ylabel(\"# of cases in data set\", color=color)\n",
    "ax1.bar(t,a, width=w, color='blue', label='Non deaths', align='center')\n",
    "ax1.bar(t,b, width=w, color='red', label='Deaths', align='center', bottom=a)\n",
    "ax1.tick_params(axis='y', labelcolor=color)\n",
    "#ax1.axis([20, 100, 0, 75])\n",
    "ax1.autoscale(tight=True)\n",
    "#add final formating to the graph\n",
    "plt.title('Exploratory graph deaths by age\\n\\n')\n",
    "ax1.legend(loc=\"lower left\", bbox_to_anchor=(0,-0.32))\n",
    "#ax.legend(bbox_to_anchor=(1.1, 1.05))\n",
    "\n",
    "#show final graph\n",
    "plt.show()"
   ]
  },
  {
   "cell_type": "code",
   "execution_count": 169,
   "metadata": {},
   "outputs": [
    {
     "data": {
      "image/png": "[encoded data removed]",
      "text/plain": [
       "<Figure size 432x288 with 1 Axes>"
      ]
     },
     "metadata": {
      "needs_background": "light"
     },
     "output_type": "display_data"
    }
   ],
   "source": [
    "#pivot dataframe\n",
    "pivoted = pd.pivot_table(df, values='id', index=['gender'], columns=['death'], aggfunc='count')\n",
    "#pivoted = pivoted.dropna()\n",
    "pivoted = pivoted.reset_index()\n",
    "\n",
    "###Next blocks prepare the plot based on pivoted dataframe.\n",
    "#prepare variables for graph.\n",
    "t = pivoted['gender'].values\n",
    "a = pivoted['0'].values\n",
    "b = pivoted['1'].values\n",
    "#c = pivoted['articles'].values\n",
    "\n",
    "fig, ax1 = plt.subplots()\n",
    "#fig, ax1 = plt.bar('age','0')\n",
    "\n",
    "#Two data sets that share a primary axis (in units)\n",
    "color = 'black'\n",
    "w = 0.5\n",
    "ax1.set_xlabel('Gender')\n",
    "ax1.set_ylabel(\"# of cases in data set\", color=color)\n",
    "ax1.bar(t,a, width=w, color='blue', label='Non deaths', align='center')\n",
    "ax1.bar(t,b, width=w, color='red', label='Deaths', align='center', bottom=a)\n",
    "ax1.tick_params(axis='y', labelcolor=color)\n",
    "#ax1.axis([20, 100, 0, 75])\n",
    "#ax1.autoscale(tight=True)\n",
    "#add final formating to the graph\n",
    "plt.title('Exploratory graph deaths by gender\\n\\n')\n",
    "ax1.legend(loc=\"lower left\", bbox_to_anchor=(0,-0.32))\n",
    "#ax.legend(bbox_to_anchor=(1.1, 1.05))\n",
    "\n",
    "#show final graph\n",
    "plt.show()\n"
   ]
  },
  {
   "cell_type": "code",
   "execution_count": 170,
   "metadata": {},
   "outputs": [],
   "source": [
    "#df"
   ]
  },
  {
   "cell_type": "code",
   "execution_count": 171,
   "metadata": {},
   "outputs": [],
   "source": [
    "#Select y (target variable)\n",
    "y=df[['death']].copy()\n"
   ]
  },
  {
   "cell_type": "code",
   "execution_count": 172,
   "metadata": {},
   "outputs": [],
   "source": [
    "#Select x's (features)\n",
    "features = ['gender','age']"
   ]
  },
  {
   "cell_type": "code",
   "execution_count": 173,
   "metadata": {},
   "outputs": [],
   "source": [
    "X = df[features].copy()\n"
   ]
  },
  {
   "cell_type": "code",
   "execution_count": 174,
   "metadata": {},
   "outputs": [],
   "source": [
    "#set parameters to test\n",
    "X_train, X_test, y_train, y_test = train_test_split(X, y, test_size=0.33, random_state=324)"
   ]
  },
  {
   "cell_type": "code",
   "execution_count": 175,
   "metadata": {},
   "outputs": [
    {
     "data": {
      "text/plain": [
       "DecisionTreeClassifier(class_weight=None, criterion='gini', max_depth=None,\n",
       "                       max_features=None, max_leaf_nodes=10,\n",
       "                       min_impurity_decrease=0.0, min_impurity_split=None,\n",
       "                       min_samples_leaf=1, min_samples_split=2,\n",
       "                       min_weight_fraction_leaf=0.0, presort=False,\n",
       "                       random_state=0, splitter='best')"
      ]
     },
     "execution_count": 175,
     "metadata": {},
     "output_type": "execute_result"
    }
   ],
   "source": [
    "#Training begins\n",
    "classifier = DecisionTreeClassifier(max_leaf_nodes=10, random_state=0)\n",
    "classifier.fit(X_train, y_train)"
   ]
  },
  {
   "cell_type": "code",
   "execution_count": 176,
   "metadata": {},
   "outputs": [],
   "source": [
    "predictions = classifier.predict(X_test)"
   ]
  },
  {
   "cell_type": "code",
   "execution_count": 177,
   "metadata": {},
   "outputs": [
    {
     "data": {
      "text/plain": [
       "0.9084249084249084"
      ]
     },
     "execution_count": 177,
     "metadata": {},
     "output_type": "execute_result"
    }
   ],
   "source": [
    "accuracy_score(y_true = y_test, y_pred = predictions)"
   ]
  }
 ],
 "metadata": {
  "kernelspec": {
   "display_name": "Python 3",
   "language": "python",
   "name": "python3"
  },
  "language_info": {
   "codemirror_mode": {
    "name": "ipython",
    "version": 3
   },
   "file_extension": ".py",
   "mimetype": "text/x-python",
   "name": "python",
   "nbconvert_exporter": "python",
   "pygments_lexer": "ipython3",
   "version": "3.7.3"
  }
 },
 "nbformat": 4,
 "nbformat_minor": 2
}
