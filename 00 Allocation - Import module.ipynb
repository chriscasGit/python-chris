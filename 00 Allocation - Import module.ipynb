{
 "cells": [
  {
   "cell_type": "markdown",
   "metadata": {},
   "source": [
    "# Profiles for Allocation"
   ]
  },
  {
   "cell_type": "markdown",
   "metadata": {},
   "source": [
    "Christian C. Feb/2020 (With majority of code being reused from Stack exchange and Google)\n",
    "\n",
    "Functionality: \n",
    "This module imports Inputs: DS1, DS4, Conso, 4 SGMT files, \n",
    "And Outpus: Cleaned files in csv format to be used by second module (which puts Allocation report together)\n",
    "\n",
    "Note: Kept it for the moment in 2 separate modules for readability."
   ]
  },
  {
   "cell_type": "markdown",
   "metadata": {},
   "source": [
    "## Imports Libraries"
   ]
  },
  {
   "cell_type": "code",
   "execution_count": null,
   "metadata": {},
   "outputs": [],
   "source": [
    "import os\n",
    "import pandas as pd\n",
    "from pandas import ExcelWriter\n",
    "from pandas import ExcelFile"
   ]
  },
  {
   "cell_type": "code",
   "execution_count": null,
   "metadata": {},
   "outputs": [],
   "source": [
    "path = \"C:\\\\Users\\\\CAS233\\\\Notebooks Christian\\\\DS_importing wave2\\\\Source Files\"\n",
    "os.chdir(path)\n",
    "path"
   ]
  },
  {
   "cell_type": "markdown",
   "metadata": {},
   "source": [
    "## Imports DS files"
   ]
  },
  {
   "cell_type": "markdown",
   "metadata": {},
   "source": [
    "### Imports DS1"
   ]
  },
  {
   "cell_type": "code",
   "execution_count": null,
   "metadata": {},
   "outputs": [],
   "source": [
    "input_files = ['DS1_1.xlsx', 'DS1_2.xlsx']\n",
    "my_sheet = \"DATA\"\n",
    "j=1\n",
    "\n",
    "for my_file in input_files:\n",
    "    df = pd.read_excel(my_file, sheet_name=my_sheet)\n",
    "    df = df.filter(['AFFILIATE','CHANNEL','CATEGORY','CLASS','SUBCLASS','CONSOL FIT','PC9','FISCAL','SZ','ND QTY'])\n",
    "    df['ND QTY'].fillna(0, inplace=True)        \n",
    "    exec(\"df_ds1_\"+str(j)+\" = df\")\n",
    "    j = j+1\n",
    "\n",
    "df_ds1 = pd.concat([df_ds1_1, df_ds1_2],ignore_index=True)"
   ]
  },
  {
   "cell_type": "code",
   "execution_count": null,
   "metadata": {},
   "outputs": [],
   "source": [
    "#uncomment to export csv that will be used on next module\n",
    "#df_ds1.to_csv('df_ds1.csv')"
   ]
  },
  {
   "cell_type": "markdown",
   "metadata": {},
   "source": [
    "### Imports DS4 (extract)"
   ]
  },
  {
   "cell_type": "code",
   "execution_count": null,
   "metadata": {},
   "outputs": [],
   "source": [
    "input_files = ['DS4_Extract_Set1_02102020.csv','DS4_Extract_Set2_02102020.csv', 'DS4_Extract_Set3_02102020.csv']\n",
    "my_fields = ['AFFILIATE','CHANNEL','CATEGORY','CLASS','SUBCLASS','CONSOL FIT','PC9','FISCAL','SZ','ND QTY','PG DESC', 'SRC']\n",
    "j=1\n",
    "\n",
    "for my_file in input_files:\n",
    " \n",
    "    df = pd.read_csv(my_file)\n",
    "    df = df.filter(my_fields)\n",
    "    df['ND QTY'].fillna(0, inplace=True) \n",
    "    exec(\"df_ds4_\"+str(j)+\" = df\")\n",
    "    j = j+1\n",
    "\n",
    "df_ds4 = pd.concat([df_ds4_1, df_ds4_2, df_ds4_3],ignore_index=True)   "
   ]
  },
  {
   "cell_type": "code",
   "execution_count": null,
   "metadata": {},
   "outputs": [],
   "source": [
    "#df_ds4.to_csv('df_ds4.csv')"
   ]
  },
  {
   "cell_type": "markdown",
   "metadata": {},
   "source": [
    "# Imports Conso file"
   ]
  },
  {
   "cell_type": "code",
   "execution_count": null,
   "metadata": {},
   "outputs": [],
   "source": [
    "my_file = \"H2 20 Conso_values.xlsx\"\n",
    "my_sheet = \"Sheet1\"\n",
    "my_fields = ['Colorway Code','Product Code','Add/Drop','Department','Mainline/OPP/Concepts','LSE Merch Story','MFP categorization','Product Name', 'New or C/O or D0', 'Sizes', 'Size Grid Name']\n",
    "\n",
    "df = pd.read_excel(my_file, sheet_name=my_sheet)\n",
    "df = df.filter(my_fields)\n",
    "df_conso = df\n"
   ]
  },
  {
   "cell_type": "code",
   "execution_count": null,
   "metadata": {},
   "outputs": [],
   "source": [
    "#df_conso.to_csv('df_conso.csv')"
   ]
  },
  {
   "cell_type": "markdown",
   "metadata": {},
   "source": [
    "# Imports SGMT file\n",
    "\n"
   ]
  },
  {
   "cell_type": "markdown",
   "metadata": {},
   "source": [
    "\n",
    "LWT = 7660 rows, 33,536 selected.\n",
    "LMT = 9555 rows, 47264 selected.\n",
    "LWB = 4725 rows, 70239 selected.\n",
    "LMB = 5848 rows, 100671 selected."
   ]
  },
  {
   "cell_type": "code",
   "execution_count": null,
   "metadata": {},
   "outputs": [],
   "source": [
    "input_files = ['LMT.xlsx','LWT.xlsx', 'LMB.xlsx','LWB.xlsx']\n",
    "my_sheet = \"Sheet1\"\n",
    "j=1\n",
    "\n",
    "for my_file in input_files:\n",
    " \n",
    "    df = pd.read_excel(my_file, sheet_name=my_sheet)\n",
    "    df.dropna(how='all', inplace=True)\n",
    "    df = df.drop(columns=['Status', 'Brand','Consumer','Affiliate','Category','PC5','Description','Plan QTY','Submitted Plan QTY','Season','MDM Count','User Count','1','2','3','Validations'])\n",
    "    df = df.melt(id_vars=['Planning Group','PC9'], var_name='Size', value_name='Selected')\n",
    "    df.dropna(subset=['Selected'], inplace=True)\n",
    "\n",
    "    # new data frame with split value columns \n",
    "    new = df[\"Size\"].str.split(\"\\n\", n = 1, expand = True) \n",
    "    # making separate first column from new data frame. From index 0\n",
    "    df[\"W\"]= new[0] \n",
    "    # making separate second column from new data frame. From index 1\n",
    "    df[\"L\"]= new[1] \n",
    "    \n",
    "    exec(\"df_SGMT\"+str(j)+\" = df\")\n",
    "    j = j+1\n",
    "\n",
    "    "
   ]
  },
  {
   "cell_type": "code",
   "execution_count": null,
   "metadata": {},
   "outputs": [],
   "source": [
    "df_SGMT = pd.concat([df_SGMT1,df_SGMT2, df_SGMT3, df_SGMT4],ignore_index=True)\n"
   ]
  },
  {
   "cell_type": "code",
   "execution_count": null,
   "metadata": {},
   "outputs": [],
   "source": [
    "#df_SGMT.to_csv('df_SGMT.csv')"
   ]
  },
  {
   "cell_type": "markdown",
   "metadata": {},
   "source": [
    "## Imports FCST Waterfall"
   ]
  },
  {
   "cell_type": "code",
   "execution_count": null,
   "metadata": {},
   "outputs": [],
   "source": [
    "my_file = \"Waterfall.xlsx\"\n",
    "my_sheet = \"Sheet1\"\n",
    "my_fields = ['SalesOffice','Account','Channel','Material','SumOfQtyTotal','Add/Drop']\n",
    "\n",
    "df = pd.read_excel(my_file, sheet_name=my_sheet)\n",
    "df = df.filter(my_fields)\n",
    "df_waterfall = df\n"
   ]
  },
  {
   "cell_type": "code",
   "execution_count": null,
   "metadata": {},
   "outputs": [],
   "source": [
    "#df_waterfall.to_csv('df_waterfall.csv')"
   ]
  }
 ],
 "metadata": {
  "kernelspec": {
   "display_name": "Python 3",
   "language": "python",
   "name": "python3"
  },
  "language_info": {
   "codemirror_mode": {
    "name": "ipython",
    "version": 3
   },
   "file_extension": ".py",
   "mimetype": "text/x-python",
   "name": "python",
   "nbconvert_exporter": "python",
   "pygments_lexer": "ipython3",
   "version": "3.7.3"
  }
 },
 "nbformat": 4,
 "nbformat_minor": 2
}
